{
  "nbformat": 4,
  "nbformat_minor": 0,
  "metadata": {
    "colab": {
      "name": "Traitement_des_validations_du_réseau_de_transport_d'Ile_de_France_à_compléter.ipynb",
      "provenance": [],
      "collapsed_sections": []
    },
    "kernelspec": {
      "name": "python3",
      "display_name": "Python 3"
    },
    "language_info": {
      "name": "python"
    }
  },
  "cells": [
    {
      "cell_type": "markdown",
      "metadata": {
        "id": "lF33cvquA22Y"
      },
      "source": [
        "# Mini-projet Apache Spark\n",
        "\n",
        "Merci d'indiquer les noms composant le binôme :\n",
        "\n",
        "|Nom | Prénom|\n",
        "|---|---|\n",
        "| <font color='red'>  PINTO | <font color='red'>  Antoine |\n",
        "\n",
        "L'objectif est de collecter les données de validations quotidiennes de titres de transport de la région parisienne, disponibles en Open Data sur le site de Mobilités Ile-de-France.\n",
        "\n",
        "On se concentrera sur le **réseau ferré** exclusivement pour cet exercice."
      ]
    },
    {
      "cell_type": "markdown",
      "metadata": {
        "id": "B4fXsbY1BRCt"
      },
      "source": [
        "## Installation de Spark\n",
        "\n",
        "Apache Spark n'est pas disponible en standard sur Google Colab.\n",
        "Procéder à son installation, ainsi qu'à son initialisation pour réaliser le traitement à venir."
      ]
    },
    {
      "cell_type": "code",
      "metadata": {
        "id": "Xk3QdgByAw-h",
        "colab": {
          "base_uri": "https://localhost:8080/",
          "height": 445
        },
        "outputId": "26d46ef9-852c-4ebc-e28b-43a72dded46a"
      },
      "source": [
        "!pip install pyspark\n",
        "import pyspark\n",
        "spark = pyspark.sql.SparkSession.builder.appName('First One').getOrCreate()\n",
        "spark"
      ],
      "execution_count": null,
      "outputs": [
        {
          "output_type": "stream",
          "name": "stdout",
          "text": [
            "Collecting pyspark\n",
            "  Downloading pyspark-3.2.0.tar.gz (281.3 MB)\n",
            "\u001b[K     |████████████████████████████████| 281.3 MB 35 kB/s \n",
            "\u001b[?25hCollecting py4j==0.10.9.2\n",
            "  Downloading py4j-0.10.9.2-py2.py3-none-any.whl (198 kB)\n",
            "\u001b[K     |████████████████████████████████| 198 kB 62.2 MB/s \n",
            "\u001b[?25hBuilding wheels for collected packages: pyspark\n",
            "  Building wheel for pyspark (setup.py) ... \u001b[?25l\u001b[?25hdone\n",
            "  Created wheel for pyspark: filename=pyspark-3.2.0-py2.py3-none-any.whl size=281805912 sha256=44cf7af9b004aba886bec9aa08da9b836f1715cf90454911b813340e68d3cc59\n",
            "  Stored in directory: /root/.cache/pip/wheels/0b/de/d2/9be5d59d7331c6c2a7c1b6d1a4f463ce107332b1ecd4e80718\n",
            "Successfully built pyspark\n",
            "Installing collected packages: py4j, pyspark\n",
            "Successfully installed py4j-0.10.9.2 pyspark-3.2.0\n"
          ]
        },
        {
          "output_type": "execute_result",
          "data": {
            "text/html": [
              "\n",
              "            <div>\n",
              "                <p><b>SparkSession - in-memory</b></p>\n",
              "                \n",
              "        <div>\n",
              "            <p><b>SparkContext</b></p>\n",
              "\n",
              "            <p><a href=\"http://7b496e49c365:4040\">Spark UI</a></p>\n",
              "\n",
              "            <dl>\n",
              "              <dt>Version</dt>\n",
              "                <dd><code>v3.2.0</code></dd>\n",
              "              <dt>Master</dt>\n",
              "                <dd><code>local[*]</code></dd>\n",
              "              <dt>AppName</dt>\n",
              "                <dd><code>First One</code></dd>\n",
              "            </dl>\n",
              "        </div>\n",
              "        \n",
              "            </div>\n",
              "        "
            ],
            "text/plain": [
              "<pyspark.sql.session.SparkSession at 0x7f3abff235d0>"
            ]
          },
          "metadata": {},
          "execution_count": 1
        }
      ]
    },
    {
      "cell_type": "markdown",
      "metadata": {
        "id": "uFkMo_2WBcrG"
      },
      "source": [
        "## Récupération des données\n",
        "\n",
        "Sur le site https://data.iledefrance-mobilites.fr, récupérer les données de validation par jour.\n",
        "\n",
        "Exemple :\n",
        "https://data.iledefrance-mobilites.fr/explore/dataset/validations-sur-le-reseau-ferre-nombre-de-validations-par-jour-2e-sem/information/\n",
        "\n",
        "Récupérer les données de S1 2020 et S2 2021 pour disposer d'une année complète.\n",
        "\n",
        "On utilisera pour ce faire les commandes de téléchargement de fichiers depuis un site (pas de chargement manuel).\n",
        "\n",
        "__Attention__ : prévoir une vingtaine de minutes pour le téléchargement, au moins une première fois, et donc une copie sur Google Drive si Google Colab est utilisée, afin d'éviter ce temps d'attente lors de sessions de travail successives."
      ]
    },
    {
      "cell_type": "code",
      "metadata": {
        "colab": {
          "base_uri": "https://localhost:8080/"
        },
        "id": "MAfPaamweXkG",
        "outputId": "ffa32a35-2b35-446e-9d46-1f71d495654e"
      },
      "source": [
        "!curl -o data1.csv https://data.iledefrance-mobilites.fr/explore/dataset/validations-sur-le-reseau-ferre-nombre-de-validations-par-jour-2e-sem/download/?format=csv\n",
        "!curl -o data2.csv https://data.iledefrance-mobilites.fr/explore/dataset/validations-sur-le-reseau-ferre-nombre-de-validations-par-jour-1er-sem/download/?format=csv\n"
      ],
      "execution_count": null,
      "outputs": [
        {
          "output_type": "stream",
          "name": "stdout",
          "text": [
            "  % Total    % Received % Xferd  Average Speed   Time    Time     Time  Current\n",
            "                                 Dload  Upload   Total   Spent    Left  Speed\n",
            "100 47.3M    0 47.3M    0     0  48585      0 --:--:--  0:17:00 --:--:--   99k\n",
            "  % Total    % Received % Xferd  Average Speed   Time    Time     Time  Current\n",
            "                                 Dload  Upload   Total   Spent    Left  Speed\n",
            "100 24.7M    0 24.7M    0     0  73122      0 --:--:--  0:05:54 --:--:--  101k\n"
          ]
        }
      ]
    },
    {
      "cell_type": "markdown",
      "metadata": {
        "id": "JieIOSxp_8wM"
      },
      "source": [
        "### Commentaires sur les données disponibles sur ce portail\n",
        "\n",
        "Investiguer les données diponibles sur le portail.\n",
        "\n",
        "Question : peut-on constituer un historique de données s'étendant sur les trois dernières années (2019 à 2021) ?\n"
      ]
    },
    {
      "cell_type": "markdown",
      "metadata": {
        "id": "PEXg6TeoATXD"
      },
      "source": [
        "🔽\n",
        "<font color='red'>***Sur le portail, des données sont disponibles de 2015 à 2019 depuis ce lien : https://data.iledefrance-mobilites.fr/explore/dataset/histo-validations/information/.***\n",
        "\n",
        "<font color='red'>***Cependant, les données du second semestre 2019 et du premier semestre 2020 ne semblent pas disponibles.***"
      ]
    },
    {
      "cell_type": "markdown",
      "metadata": {
        "id": "9i0jSKz1Orfl"
      },
      "source": [
        "## Lecture des fichiers dans Spark\n",
        "\n",
        "Lire les fichiers en choisissant les bonnes options de lecture.\n",
        "Concaténer les données en une seule table."
      ]
    },
    {
      "cell_type": "code",
      "metadata": {
        "id": "vQnjZs-AwVvW"
      },
      "source": [
        "df1 = spark.read.csv('data1.csv', sep=';')\n",
        "df2 = spark.read.csv('data2.csv', sep=';')\n",
        "\n",
        "df1.show(5)"
      ],
      "execution_count": null,
      "outputs": []
    },
    {
      "cell_type": "code",
      "metadata": {
        "colab": {
          "base_uri": "https://localhost:8080/"
        },
        "id": "N7v6jfYAvsL8",
        "outputId": "ac7a84a1-8a65-47d4-d655-94b4da00c628"
      },
      "source": [
        "from google.colab import drive\n",
        "import os\n",
        "drive.mount('/content/gdrive')\n",
        "os.chdir('/content/gdrive/MyDrive')\n",
        "\n",
        "df1 = (spark.read.csv('/content/gdrive/MyDrive/Projet Outils du Big Data/data1.csv', sep=';', inferSchema=True, header = True))\n",
        "df2 = (spark.read.csv('/content/gdrive/MyDrive/Projet Outils du Big Data/data2.csv', sep=';', inferSchema=True, header = True))\n",
        "\n",
        "df1.show(5)"
      ],
      "execution_count": null,
      "outputs": [
        {
          "output_type": "stream",
          "name": "stdout",
          "text": [
            "Mounted at /content/gdrive\n",
            "+----------+--------------+-------------+---------------+-------------------+-----------+---------------+----------+\n",
            "|      jour|code_stif_trns|code_stif_res|code_stif_arret|      libelle_arret|id_refa_lda|categorie_titre|   nb_vald|\n",
            "+----------+--------------+-------------+---------------+-------------------+-----------+---------------+----------+\n",
            "|2020-07-11|           800|          822|            222|             GARGAN|          ?|      IMAGINE R|        24|\n",
            "|2020-07-11|           800|          822|            222|             GARGAN|          ?|         NAVIGO|       102|\n",
            "|2020-07-11|           800|          822|            222|             GARGAN|          ?|     NON DEFINI|Moins de 5|\n",
            "|2020-07-11|           800|          822|            224|              BONDY|          ?|      AMETHYSTE|Moins de 5|\n",
            "|2020-07-11|           800|          850|            140|CHAMPBENOIST-POIGNY|      62064|         NAVIGO|        38|\n",
            "+----------+--------------+-------------+---------------+-------------------+-----------+---------------+----------+\n",
            "only showing top 5 rows\n",
            "\n"
          ]
        }
      ]
    },
    {
      "cell_type": "markdown",
      "metadata": {
        "id": "jUnT_vtrnd2y"
      },
      "source": [
        "<font color='red'>***Concaténation des deux fichiers :***"
      ]
    },
    {
      "cell_type": "code",
      "metadata": {
        "id": "uRzuTMKgO3Uw"
      },
      "source": [
        "validations_ddf = df1.unionByName(df2)"
      ],
      "execution_count": null,
      "outputs": []
    },
    {
      "cell_type": "markdown",
      "metadata": {
        "id": "w0_Cb36HPumu"
      },
      "source": [
        "## Validation\n",
        "\n",
        "Si vous avez appelé votre dataframe `validations_ddf`, le test suivant ne doit pas générer d'erreur."
      ]
    },
    {
      "cell_type": "markdown",
      "metadata": {
        "id": "uQxwZrhLnkgl"
      },
      "source": [
        "<font color='red'>***Le nombre de lignes correspond***"
      ]
    },
    {
      "cell_type": "code",
      "metadata": {
        "colab": {
          "base_uri": "https://localhost:8080/"
        },
        "id": "mdcT9T4IwLQY",
        "outputId": "5bc3f683-28db-4426-b4b5-466e2d338300"
      },
      "source": [
        "validations_ddf.count()"
      ],
      "execution_count": null,
      "outputs": [
        {
          "output_type": "execute_result",
          "data": {
            "text/plain": [
              "1316287"
            ]
          },
          "metadata": {},
          "execution_count": 19
        }
      ]
    },
    {
      "cell_type": "code",
      "metadata": {
        "id": "vFsa7hM5P9mm"
      },
      "source": [
        "assert validations_ddf.count() == 1_316_287, \"Le nombre de lignes ne correspond pas\""
      ],
      "execution_count": null,
      "outputs": []
    },
    {
      "cell_type": "markdown",
      "metadata": {
        "id": "uUL3zXzN0nYN"
      },
      "source": [
        "Dans le cas où ce code génère une erreur, il s'agit probablement d'un problème de récupération ou de lecture des deux fichiers."
      ]
    },
    {
      "cell_type": "markdown",
      "metadata": {
        "id": "geRE6A7VOKtt"
      },
      "source": [
        "## Préparation des données\n",
        "\n",
        "Réaliser les transformations nécessaires pour exploiter ces données :\n",
        "- préparation des dates\n",
        "- transformation du nombre de validation\n",
        "\n",
        "### Explication pour le nombre de validations\n",
        "\n",
        "Analyser les valeurs prises par ce champ et déterminer le problème.\n",
        "Présenter votre stratégie pour remédier à ce choix de codage par Mobilités Ile-de-France."
      ]
    },
    {
      "cell_type": "code",
      "metadata": {
        "id": "2123MoloxCfZ"
      },
      "source": [
        "import pyspark.sql.functions as F"
      ],
      "execution_count": null,
      "outputs": []
    },
    {
      "cell_type": "markdown",
      "metadata": {
        "id": "jveWgSIyoAOC"
      },
      "source": [
        "<font color='red'>***Tri des dates de la plus ancienne à la plus récente :***"
      ]
    },
    {
      "cell_type": "code",
      "metadata": {
        "id": "P0wee9mWBfab",
        "colab": {
          "base_uri": "https://localhost:8080/"
        },
        "outputId": "2d2aa113-3617-45b6-8973-6a48e24f0f88"
      },
      "source": [
        "validations_ddf = validations_ddf.sort('jour')\n",
        "validations_ddf.show(5)"
      ],
      "execution_count": null,
      "outputs": [
        {
          "output_type": "stream",
          "name": "stdout",
          "text": [
            "+----------+--------------+-------------+---------------+--------------------+-----------+---------------+-------+\n",
            "|      jour|code_stif_trns|code_stif_res|code_stif_arret|       libelle_arret|id_refa_lda|categorie_titre|nb_vald|\n",
            "+----------+--------------+-------------+---------------+--------------------+-----------+---------------+-------+\n",
            "|2020-07-01|           100|          110|              1|       PORTE MAILLOT|      71379|              ?|     99|\n",
            "|2020-07-01|           100|          110|            100|BOULOGNE-PONT DE ...|      70721|    NAVIGO JOUR|      5|\n",
            "|2020-07-01|           100|          110|              1|       PORTE MAILLOT|      71379|    NAVIGO JOUR|     11|\n",
            "|2020-07-01|           100|          110|              1|       PORTE MAILLOT|      71379|     NON DEFINI|    270|\n",
            "|2020-07-01|           100|          110|             10|              ALESIA|      71030|              ?|     29|\n",
            "+----------+--------------+-------------+---------------+--------------------+-----------+---------------+-------+\n",
            "only showing top 5 rows\n",
            "\n"
          ]
        }
      ]
    },
    {
      "cell_type": "markdown",
      "metadata": {
        "id": "0b7KiKGg9hvN"
      },
      "source": [
        "<font color='red'>***Il y a 140 672 observations pour lesquelles la variable 'nb_vald' prend la valeur \"Moins de 5\".***"
      ]
    },
    {
      "cell_type": "code",
      "metadata": {
        "colab": {
          "base_uri": "https://localhost:8080/"
        },
        "id": "46xVHBT85tRD",
        "outputId": "81568ed0-b602-4ea8-b499-6eb36ba453db"
      },
      "source": [
        "validations_ddf.filter(F.col('nb_vald') == \"Moins de 5\").count()"
      ],
      "execution_count": null,
      "outputs": [
        {
          "output_type": "execute_result",
          "data": {
            "text/plain": [
              "140672"
            ]
          },
          "metadata": {},
          "execution_count": 21
        }
      ]
    },
    {
      "cell_type": "markdown",
      "metadata": {
        "id": "2qkwseRyGYSk"
      },
      "source": [
        "<font color='red'>***Il est rare que cette occurence apparaisse pour les titre NAVIGO et IMAGINE R***"
      ]
    },
    {
      "cell_type": "code",
      "metadata": {
        "colab": {
          "base_uri": "https://localhost:8080/"
        },
        "id": "Kj6RRhNWF2lh",
        "outputId": "0978bac0-831c-4cf6-f80a-3ab89c892fbc"
      },
      "source": [
        "(validations_ddf\n",
        " .filter(F.col('nb_vald') == \"Moins de 5\")\n",
        " .groupby('categorie_titre')\n",
        " .agg(F.count('nb_vald').alias('Nb occurence \"Moins de 5\"'))).show()"
      ],
      "execution_count": null,
      "outputs": [
        {
          "output_type": "stream",
          "name": "stdout",
          "text": [
            "+---------------+-------------------------+\n",
            "|categorie_titre|Nb occurence \"Moins de 5\"|\n",
            "+---------------+-------------------------+\n",
            "|         NAVIGO|                     1999|\n",
            "|     NON DEFINI|                    12662|\n",
            "|      IMAGINE R|                     3910|\n",
            "|            FGT|                     9522|\n",
            "|    NAVIGO JOUR|                    64020|\n",
            "|    AUTRE TITRE|                    10163|\n",
            "|              ?|                    15936|\n",
            "|            TST|                     9230|\n",
            "|      AMETHYSTE|                    13230|\n",
            "+---------------+-------------------------+\n",
            "\n"
          ]
        }
      ]
    },
    {
      "cell_type": "markdown",
      "metadata": {
        "id": "Zr6WTRCMobaO"
      },
      "source": [
        "<font color='red'>***Je décide de remplacer les \"Moins de 5\" par la valeur 2.***"
      ]
    },
    {
      "cell_type": "code",
      "metadata": {
        "colab": {
          "base_uri": "https://localhost:8080/"
        },
        "id": "SntTTKlp3bV6",
        "outputId": "8ecc2fe3-93cd-43d0-fb5a-d24c5a2568ff"
      },
      "source": [
        "validations_ddf = validations_ddf.withColumn('nb_vald', F.when(F.col('nb_vald') != \"Moins de 5\", F.col('nb_vald')).otherwise(\"2\"))\n",
        "validations_ddf.show(5)"
      ],
      "execution_count": null,
      "outputs": [
        {
          "output_type": "stream",
          "name": "stdout",
          "text": [
            "+----------+--------------+-------------+---------------+--------------------+-----------+---------------+-------+\n",
            "|      jour|code_stif_trns|code_stif_res|code_stif_arret|       libelle_arret|id_refa_lda|categorie_titre|nb_vald|\n",
            "+----------+--------------+-------------+---------------+--------------------+-----------+---------------+-------+\n",
            "|2020-07-01|           100|          110|              1|       PORTE MAILLOT|      71379|              ?|     99|\n",
            "|2020-07-01|           100|          110|            100|BOULOGNE-PONT DE ...|      70721|    NAVIGO JOUR|      5|\n",
            "|2020-07-01|           100|          110|              1|       PORTE MAILLOT|      71379|    NAVIGO JOUR|     11|\n",
            "|2020-07-01|           100|          110|              1|       PORTE MAILLOT|      71379|     NON DEFINI|    270|\n",
            "|2020-07-01|           100|          110|             10|              ALESIA|      71030|              ?|     29|\n",
            "+----------+--------------+-------------+---------------+--------------------+-----------+---------------+-------+\n",
            "only showing top 5 rows\n",
            "\n"
          ]
        }
      ]
    },
    {
      "cell_type": "markdown",
      "metadata": {
        "id": "Q_4Kf0-zG4WQ"
      },
      "source": [
        "<font color='red'>***Je peux désormais convertir la variable nb_vald en integer (elle était précédemment en string)***"
      ]
    },
    {
      "cell_type": "code",
      "metadata": {
        "id": "A7NVfeJe4Z2D"
      },
      "source": [
        "validations_ddf = validations_ddf.withColumn(\"nb_vald\", validations_ddf.nb_vald.cast('int'))"
      ],
      "execution_count": null,
      "outputs": []
    },
    {
      "cell_type": "markdown",
      "metadata": {
        "id": "WeDTdkHk8lae"
      },
      "source": [
        "## Détermination des principales catégories de titre\n",
        "\n",
        "Différentes catégories de titre sont utilisées sur le réseau.\n",
        "\n",
        "Déterminer les deux catégories principalement utilisées. Seules ces catégories seront utilisées dans les travaux ci-après (les utiliser comme filtre sur les validations dans la suite)."
      ]
    },
    {
      "cell_type": "markdown",
      "metadata": {
        "id": "k9omRKWPyw0P"
      },
      "source": [
        "<font color='red'>***Le tableau suivant montre que les catégories NAVIGO et IMAGINE R sont les principales utilisées : NAVIGO représente 59% des validations alors que IMAGINE R en représente 17%***"
      ]
    },
    {
      "cell_type": "code",
      "metadata": {
        "colab": {
          "base_uri": "https://localhost:8080/"
        },
        "id": "cL_i3f0b_OSe",
        "outputId": "3fc7292a-335a-4c44-ab6b-069f37771e93"
      },
      "source": [
        "from pyspark.sql.functions import concat, col, lit\n",
        "from pyspark.sql.window import Window\n",
        "\n",
        "(validations_ddf\n",
        " .groupby('categorie_titre')\n",
        " .agg(F.sum('nb_vald').alias('Total_Validation'))\n",
        " .withColumn('Proportion',concat(F.round(F.col('Total_Validation')/F.sum('Total_Validation').over(Window.partitionBy())*100, 1), lit(\" %\")))).show()"
      ],
      "execution_count": null,
      "outputs": [
        {
          "output_type": "stream",
          "name": "stdout",
          "text": [
            "+---------------+----------------+----------+\n",
            "|categorie_titre|Total_Validation|Proportion|\n",
            "+---------------+----------------+----------+\n",
            "|         NAVIGO|       381577998|    58.9 %|\n",
            "|     NON DEFINI|        32683938|     5.0 %|\n",
            "|      IMAGINE R|       111250367|    17.2 %|\n",
            "|            FGT|        27872115|     4.3 %|\n",
            "|    NAVIGO JOUR|          917396|     0.1 %|\n",
            "|    AUTRE TITRE|        20019743|     3.1 %|\n",
            "|              ?|         8425969|     1.3 %|\n",
            "|            TST|        46087673|     7.1 %|\n",
            "|      AMETHYSTE|        18851932|     2.9 %|\n",
            "+---------------+----------------+----------+\n",
            "\n"
          ]
        }
      ]
    },
    {
      "cell_type": "markdown",
      "metadata": {
        "id": "_vJVFiiVy6UZ"
      },
      "source": [
        "<font color='red'>***Je ne garde que les observations correspondantes aux deux catégories principalement utilisées***"
      ]
    },
    {
      "cell_type": "code",
      "metadata": {
        "colab": {
          "base_uri": "https://localhost:8080/"
        },
        "id": "f7aJvJkM_hQ5",
        "outputId": "aebc770e-9f66-4d13-f6c5-2a504f86f55a"
      },
      "source": [
        "validations_ddf = validations_ddf.filter((F.col('categorie_titre') == \"NAVIGO\") | (F.col('categorie_titre') == \"IMAGINE R\"))\n",
        "validations_ddf.show(10)"
      ],
      "execution_count": null,
      "outputs": [
        {
          "output_type": "stream",
          "name": "stdout",
          "text": [
            "+----------+--------------+-------------+---------------+--------------------+-----------+---------------+-------+\n",
            "|      jour|code_stif_trns|code_stif_res|code_stif_arret|       libelle_arret|id_refa_lda|categorie_titre|nb_vald|\n",
            "+----------+--------------+-------------+---------------+--------------------+-----------+---------------+-------+\n",
            "|2020-07-01|           100|          110|           1006|          OLYMPIADES|      71557|      IMAGINE R|   2006|\n",
            "|2020-07-01|           100|          110|              2|            ABBESSES|      71432|         NAVIGO|   1042|\n",
            "|2020-07-01|           100|          110|           1007|LES AGNETTES-ASNI...|      72240|      IMAGINE R|    508|\n",
            "|2020-07-01|           100|          110|           1073|       FR. POPULAIRE|      74041|      IMAGINE R|    815|\n",
            "|2020-07-01|           100|          110|            120|     BUTTES-CHAUMONT|      71900|         NAVIGO|    346|\n",
            "|2020-07-01|           100|          110|            144|CHAMPS-ELYSEES-CL...|      71305|         NAVIGO|   2939|\n",
            "|2020-07-01|           100|          110|            152|CHARLES DE GAULLE...|      71347|         NAVIGO|   5403|\n",
            "|2020-07-01|           100|          110|            156|            CHARONNE|      73647|         NAVIGO|   3486|\n",
            "|2020-07-01|           100|          110|            161|      CHATEAU-LANDON|      73615|         NAVIGO|   2130|\n",
            "|2020-07-01|           100|          110|            183|          CHEVALERET|      73651|         NAVIGO|   4361|\n",
            "+----------+--------------+-------------+---------------+--------------------+-----------+---------------+-------+\n",
            "only showing top 10 rows\n",
            "\n"
          ]
        }
      ]
    },
    {
      "cell_type": "markdown",
      "metadata": {
        "id": "4iY3-EDD6QfK"
      },
      "source": [
        "## Visualisation du trafic dans une station\n",
        "\n",
        "Visualiser le trafic à la gare de Lyon pour les deux catégories de titre principales.\n",
        "\n",
        "Attention à gérer le cas des gares (comme la gare de Lyon) présentes sur plusieurs lignes et dont le libellé apparaît donc sur plusieurs lignes. Investiguer ce cas avant de déterminer la bonne façon de calculer le nombre de validations pour la gare de Lyon."
      ]
    },
    {
      "cell_type": "markdown",
      "metadata": {
        "id": "iueLEFMhCQni"
      },
      "source": [
        "<font color='red'>***On observe que différentes lignes sont présentes à la Gare de Lyon. : elles correspondent aux codes stif 306, 307 et 317*** "
      ]
    },
    {
      "cell_type": "code",
      "metadata": {
        "colab": {
          "base_uri": "https://localhost:8080/"
        },
        "id": "xxcFi93NAVKW",
        "outputId": "42d0b214-98ae-4ddb-ea37-d6360a972305"
      },
      "source": [
        "validations_ddf.filter(F.col('libelle_arret') == \"GARE DE LYON\").show(5)"
      ],
      "execution_count": null,
      "outputs": [
        {
          "output_type": "stream",
          "name": "stdout",
          "text": [
            "+----------+--------------+-------------+---------------+-------------+-----------+---------------+-------+\n",
            "|      jour|code_stif_trns|code_stif_res|code_stif_arret|libelle_arret|id_refa_lda|categorie_titre|nb_vald|\n",
            "+----------+--------------+-------------+---------------+-------------+-----------+---------------+-------+\n",
            "|2020-07-01|           800|          804|            307| GARE DE LYON|      73626|      IMAGINE R|    509|\n",
            "|2020-07-01|           100|          110|            317| GARE DE LYON|      73626|      IMAGINE R|   2115|\n",
            "|2020-07-01|           100|          110|            317| GARE DE LYON|      73626|         NAVIGO|   9001|\n",
            "|2020-07-01|           810|          801|            306| GARE DE LYON|      73626|         NAVIGO|   8545|\n",
            "|2020-07-01|           810|          801|            306| GARE DE LYON|      73626|      IMAGINE R|   2288|\n",
            "+----------+--------------+-------------+---------------+-------------+-----------+---------------+-------+\n",
            "only showing top 5 rows\n",
            "\n"
          ]
        }
      ]
    },
    {
      "cell_type": "code",
      "metadata": {
        "colab": {
          "base_uri": "https://localhost:8080/"
        },
        "id": "iweSaR7xzmWp",
        "outputId": "4b766ef9-24a9-42c5-8d8f-467603863ed6"
      },
      "source": [
        "(validations_ddf\n",
        " .filter(F.col('libelle_arret') == \"GARE DE LYON\")\n",
        " .groupby('code_stif_arret')\n",
        " .agg(F.sum('nb_vald').alias('Total_Validation'))).show()"
      ],
      "execution_count": null,
      "outputs": [
        {
          "output_type": "stream",
          "name": "stdout",
          "text": [
            "+---------------+----------------+\n",
            "|code_stif_arret|Total_Validation|\n",
            "+---------------+----------------+\n",
            "|            307|          415520|\n",
            "|            317|         2874070|\n",
            "|            306|         2826705|\n",
            "+---------------+----------------+\n",
            "\n"
          ]
        }
      ]
    },
    {
      "cell_type": "markdown",
      "metadata": {
        "id": "ea2toZeQWBLG"
      },
      "source": [
        "<font color='red'>***En visualisant le nombre de validations par jour selon le type de titre, on observe l'effet du reconfinement de fin octobre 2020.***"
      ]
    },
    {
      "cell_type": "code",
      "metadata": {
        "colab": {
          "base_uri": "https://localhost:8080/",
          "height": 351
        },
        "id": "h1cigfSEDYjL",
        "outputId": "a6db8db1-c24a-4419-a06a-a97c0bdb2ab6"
      },
      "source": [
        "import seaborn as sns\n",
        "\n",
        "(validations_ddf\n",
        "    .filter(F.col('libelle_arret') == \"GARE DE LYON\")\n",
        "    .groupby('jour', 'categorie_titre')\n",
        "    .agg(F.sum('nb_vald').alias('nb_vald'))).toPandas().set_index(['jour', 'categorie_titre']).unstack(1).plot(figsize=(12, 5))"
      ],
      "execution_count": null,
      "outputs": [
        {
          "output_type": "execute_result",
          "data": {
            "text/plain": [
              "<matplotlib.axes._subplots.AxesSubplot at 0x7f3aa9302110>"
            ]
          },
          "metadata": {},
          "execution_count": 32
        },
        {
          "output_type": "display_data",
          "data": {
            "image/png": "[encoded data removed]",
            "text/plain": [
              "<Figure size 864x360 with 1 Axes>"
            ]
          },
          "metadata": {
            "needs_background": "light"
          }
        }
      ]
    },
    {
      "cell_type": "markdown",
      "metadata": {
        "id": "EEAbc_qZWQcI"
      },
      "source": [
        "<font color='red'>***Voici le même graphique en utilisant une moyenne mobile sur les 7 derniers jours :***"
      ]
    },
    {
      "cell_type": "code",
      "metadata": {
        "colab": {
          "base_uri": "https://localhost:8080/",
          "height": 351
        },
        "id": "evqmBphHPWmu",
        "outputId": "ecb30b61-f30b-4799-dfaa-865bd4daee8e"
      },
      "source": [
        "agg_window = Window.partitionBy('categorie_titre').orderBy('jour').rowsBetween(-6,0)\n",
        "\n",
        "(validations_ddf\n",
        " .filter(F.col('libelle_arret') == \"GARE DE LYON\")\n",
        " .groupby('jour', 'categorie_titre')\n",
        " .agg(F.sum('nb_vald').alias('nb_vald'))\n",
        " .withColumn('roll_mean7', F.mean('nb_vald').over(agg_window))\n",
        " .select('jour', 'categorie_titre', 'roll_mean7')).toPandas().set_index(['jour', 'categorie_titre']).unstack(1).plot(figsize=(12, 5))\n"
      ],
      "execution_count": null,
      "outputs": [
        {
          "output_type": "execute_result",
          "data": {
            "text/plain": [
              "<matplotlib.axes._subplots.AxesSubplot at 0x7f3aa92f1a90>"
            ]
          },
          "metadata": {},
          "execution_count": 33
        },
        {
          "output_type": "display_data",
          "data": {
            "image/png": "[encoded data removed]",
            "text/plain": [
              "<Figure size 864x360 with 1 Axes>"
            ]
          },
          "metadata": {
            "needs_background": "light"
          }
        }
      ]
    },
    {
      "cell_type": "markdown",
      "metadata": {
        "id": "2Ae6sckJdxjE"
      },
      "source": [
        "## Fluctuation du trafic hebdomadaire\n",
        "\n",
        "Calculer le trafic total et le pourcentage par jour de la semaine sur l'ensemble du réseau.\n",
        "\n",
        "Trier le résultat par ordre décroissant de validations.\n",
        "\n",
        "Note : considérer l'usage d'une fonction analytique (`Window.partitionBy()`).\n"
      ]
    },
    {
      "cell_type": "markdown",
      "metadata": {
        "id": "EJbkCyo8Qry6"
      },
      "source": [
        "<font color='red'>***Le tableau suivant donne le trafic total et son pourcentage par jour de la semaine. On remarque logiquement que le trafic est plus faible le samedi (7) et dimanche (1).***"
      ]
    },
    {
      "cell_type": "code",
      "metadata": {
        "colab": {
          "base_uri": "https://localhost:8080/"
        },
        "id": "2ETcDaKkO-Ik",
        "outputId": "11b64677-e59d-403e-a620-64fc082f3b2d"
      },
      "source": [
        "(validations_ddf\n",
        " .withColumn('day_week', F.dayofweek('jour'))\n",
        " .groupby('day_week')\n",
        " .agg(F.sum('nb_vald').alias('Total_Validation'))\n",
        " .orderBy(F.desc('Total_Validation'))\n",
        " .withColumn('Proportion',concat(F.round(F.col('Total_Validation')/F.sum('Total_Validation').over(Window.partitionBy())*100, 1), lit(\" %\")))).show()"
      ],
      "execution_count": null,
      "outputs": [
        {
          "output_type": "stream",
          "name": "stdout",
          "text": [
            "+--------+----------------+----------+\n",
            "|day_week|Total_Validation|Proportion|\n",
            "+--------+----------------+----------+\n",
            "|       5|        85291379|    17.3 %|\n",
            "|       4|        84482068|    17.1 %|\n",
            "|       3|        82753082|    16.8 %|\n",
            "|       6|        81438898|    16.5 %|\n",
            "|       2|        78155122|    15.9 %|\n",
            "|       7|        49807677|    10.1 %|\n",
            "|       1|        30900139|     6.3 %|\n",
            "+--------+----------------+----------+\n",
            "\n"
          ]
        }
      ]
    },
    {
      "cell_type": "markdown",
      "metadata": {
        "id": "nMN5ZAs_dRWN"
      },
      "source": [
        "## Analyse de l'impact du reconfinement d'octobre 2020\n",
        "\n",
        "Mettre en évidence graphiquement l'impact du reconfinement.\n",
        "\n",
        "N'utiliser que les catégories de titre _IMAGINE R_ et _Navigo_.\n"
      ]
    },
    {
      "cell_type": "markdown",
      "metadata": {
        "id": "IdXP_XDzYHHq"
      },
      "source": [
        "<font color='red'>***Le confinement d'octobre 2020 a commencé le 30 octobre et s'est terminé le 15 décembre. Pour analyser son impact, une première chose à faire est de créer la variable indicatrice qui vaut 1 si l'observation est en période de confinement et 0 sinon.***"
      ]
    },
    {
      "cell_type": "code",
      "metadata": {
        "colab": {
          "base_uri": "https://localhost:8080/"
        },
        "id": "ki6BMisFDuCm",
        "outputId": "16b12672-981d-4f7a-86c0-a8f445779cef"
      },
      "source": [
        "validations_ddf = validations_ddf.withColumn('confinement', F.when((F.col('jour') >= '2020-10-30') & (F.col('jour') <= '2020-12-15'), 1).otherwise(0))"
      ],
      "execution_count": null,
      "outputs": [
        {
          "output_type": "stream",
          "name": "stdout",
          "text": [
            "+----------+--------------+-------------+---------------+--------------------+-----------+---------------+-------+-----------+\n",
            "|      jour|code_stif_trns|code_stif_res|code_stif_arret|       libelle_arret|id_refa_lda|categorie_titre|nb_vald|confinement|\n",
            "+----------+--------------+-------------+---------------+--------------------+-----------+---------------+-------+-----------+\n",
            "|2020-07-01|           100|          110|           1006|          OLYMPIADES|      71557|      IMAGINE R|   2006|          0|\n",
            "|2020-07-01|           100|          110|            152|CHARLES DE GAULLE...|      71347|         NAVIGO|   5403|          0|\n",
            "|2020-07-01|           100|          110|           1007|LES AGNETTES-ASNI...|      72240|      IMAGINE R|    508|          0|\n",
            "|2020-07-01|           100|          110|           1073|       FR. POPULAIRE|      74041|      IMAGINE R|    815|          0|\n",
            "|2020-07-01|           100|          110|            120|     BUTTES-CHAUMONT|      71900|         NAVIGO|    346|          0|\n",
            "+----------+--------------+-------------+---------------+--------------------+-----------+---------------+-------+-----------+\n",
            "only showing top 5 rows\n",
            "\n"
          ]
        }
      ]
    },
    {
      "cell_type": "markdown",
      "metadata": {
        "id": "bNWfyIhlYSsM"
      },
      "source": [
        "<font color='red'>***Le tableau suivant permet de comparer le nombre moyen de validations par jour en période de confinement et hors période de confinement. L'intervalle de confiance à 95% nous permet de conclure que la différence est significative à ce seuil.***"
      ]
    },
    {
      "cell_type": "code",
      "metadata": {
        "colab": {
          "base_uri": "https://localhost:8080/"
        },
        "id": "YSReYCFwW_a1",
        "outputId": "b254752a-c7f7-4326-e6ae-a9fc836a05fc"
      },
      "source": [
        "(validations_ddf\n",
        "    .groupby('jour', 'confinement')\n",
        "    .agg(F.sum('nb_vald').alias('nb_vald'))\n",
        "    .groupby('confinement')\n",
        "    .agg(F.round(F.mean('nb_vald')).alias('Nombre moyen de validations par jour'),\n",
        "        (F.round(F.mean('nb_vald') - 1.96*F.stddev('nb_vald')/(F.count('nb_vald')**0.5))).alias('IC 95% INF'),\n",
        "        (F.round(F.mean('nb_vald') + 1.96*F.stddev('nb_vald')/(F.count('nb_vald')**0.5))).alias('IC 95% SUP'))).show()"
      ],
      "execution_count": null,
      "outputs": [
        {
          "output_type": "stream",
          "name": "stdout",
          "text": [
            "+-----------+------------------------------------+----------+----------+\n",
            "|confinement|Nombre moyen de validations par jour|IC 95% INF|IC 95% SUP|\n",
            "+-----------+------------------------------------+----------+----------+\n",
            "|          1|                            945770.0|  834855.0| 1056684.0|\n",
            "|          0|                           1556865.0| 1470538.0| 1643193.0|\n",
            "+-----------+------------------------------------+----------+----------+\n",
            "\n"
          ]
        }
      ]
    },
    {
      "cell_type": "markdown",
      "metadata": {
        "id": "HtqWa62HYqt7"
      },
      "source": [
        "<font color='red'>***Le graphique suivant permet de visualiser les résultats du tableau précédent.***"
      ]
    },
    {
      "cell_type": "code",
      "metadata": {
        "colab": {
          "base_uri": "https://localhost:8080/",
          "height": 295
        },
        "id": "DWhIxQXMV0UJ",
        "outputId": "86e21817-0360-4fb5-ef8e-3d1211f13860"
      },
      "source": [
        "import seaborn as sns\n",
        "import numpy as np\n",
        "import matplotlib.pyplot as plt\n",
        "\n",
        "df_plt1 = (validations_ddf\n",
        " .groupby('jour', 'confinement')\n",
        " .agg(F.sum('nb_vald').alias('Nombre de validations'))).toPandas()\n",
        " \n",
        "plt1 = sns.barplot(x=\"confinement\", y=\"Nombre de validations\", data=df_plt1, estimator=np.mean, ci=85, capsize=.2, color='lightblue')\n",
        "plt1.set_title(\"Nombre de validation avec ou sans le confinement d'octobre\")\n",
        "plt1.ticklabel_format(style='plain', axis='y')\n",
        "plt.show()"
      ],
      "execution_count": null,
      "outputs": [
        {
          "output_type": "display_data",
          "data": {
            "image/png": "[encoded data removed]",
            "text/plain": [
              "<Figure size 432x288 with 1 Axes>"
            ]
          },
          "metadata": {
            "needs_background": "light"
          }
        }
      ]
    },
    {
      "cell_type": "markdown",
      "metadata": {
        "id": "Kb9yE4sTY8Ab"
      },
      "source": [
        "<font color='red'>***Lors de l'annonce du confinement, certaines lignes de transport ont été fermées. Le graphique suivant décrit le nombre de lignes en activités par semaine. La semaine 1 correspond à la première semaine de la base de données. Nous observons que lors du confinement, le nombre de lignes de transport en activité est passé de 700 à moins de 400.***"
      ]
    },
    {
      "cell_type": "code",
      "metadata": {
        "id": "bp2VhyT6ORSF",
        "colab": {
          "base_uri": "https://localhost:8080/",
          "height": 368
        },
        "outputId": "aba6ab14-b2a3-4931-d036-1a1edd81ed1b"
      },
      "source": [
        "(validations_ddf\n",
        " .withColumn('semaine', F.weekofyear(F.col('jour')) - 26)\n",
        " .withColumn('semaine_reformat', F.when(F.col('semaine') < 0, F.col('semaine') + 52).otherwise(F.col('semaine')))\n",
        " .groupby('semaine_reformat')\n",
        " .agg(F.count_distinct('code_stif_arret').alias('n_semaine'))\n",
        " .sort('semaine_reformat')).toPandas().set_index(['semaine_reformat']).unstack(1).plot(figsize=(12, 5),\n",
        "                                                                                       title = \"Nombre de lignes en activités par semaine\",\n",
        "                                                                                       ylabel = 'Nombre de lignes en activités',\n",
        "                                                                                       xlabel = 'Semaine',\n",
        "                                                                                       style='.-')"
      ],
      "execution_count": null,
      "outputs": [
        {
          "output_type": "execute_result",
          "data": {
            "text/plain": [
              "<matplotlib.axes._subplots.AxesSubplot at 0x7f3aaafc7450>"
            ]
          },
          "metadata": {},
          "execution_count": 39
        },
        {
          "output_type": "display_data",
          "data": {
            "image/png": "[encoded data removed]",
            "text/plain": [
              "<Figure size 864x360 with 1 Axes>"
            ]
          },
          "metadata": {
            "needs_background": "light"
          }
        }
      ]
    },
    {
      "cell_type": "markdown",
      "metadata": {
        "id": "QYNecvg2zbWE"
      },
      "source": [
        "#### Bonus\n",
        "\n",
        "Calculer la moyenne glissante sur 7 jours par categorie de titre pour réduire les variations hebdomadaires."
      ]
    },
    {
      "cell_type": "markdown",
      "metadata": {
        "id": "VtW99uk2a-T_"
      },
      "source": [
        "<font color='red'>***Pour calculer la moyenne glissante sur 7 jours, j'utilise la fonction analytique Window.***"
      ]
    },
    {
      "cell_type": "code",
      "metadata": {
        "colab": {
          "base_uri": "https://localhost:8080/",
          "height": 367
        },
        "id": "1uTKKYw4DWVn",
        "outputId": "f6a99cac-7a2e-491d-b2aa-2ed04bfedf24"
      },
      "source": [
        "agg_window = Window.orderBy('jour').rowsBetween(-6,0)\n",
        "\n",
        "(validations_ddf\n",
        " .groupby('jour')\n",
        " .agg(F.sum('nb_vald').alias('nb_vald'))\n",
        " .withColumn('r7', F.mean('nb_vald').over(agg_window))\n",
        " .select('jour', 'r7')).toPandas().set_index(['jour']).unstack(1).plot(figsize=(12, 5),\n",
        "                                                                               title = 'Moyenne glissante sur 7 jours du nombre de validations',\n",
        "                                                                               ylabel = 'Moyenne glissante sur 7 jours',\n",
        "                                                                               xlabel = \"Date\")"
      ],
      "execution_count": null,
      "outputs": [
        {
          "output_type": "execute_result",
          "data": {
            "text/plain": [
              "<matplotlib.axes._subplots.AxesSubplot at 0x7f3aa90d0690>"
            ]
          },
          "metadata": {},
          "execution_count": 40
        },
        {
          "output_type": "display_data",
          "data": {
            "image/png": "[encoded data removed]",
            "text/plain": [
              "<Figure size 864x360 with 1 Axes>"
            ]
          },
          "metadata": {
            "needs_background": "light"
          }
        }
      ]
    },
    {
      "cell_type": "markdown",
      "metadata": {
        "id": "XjTPspGbAecD"
      },
      "source": [
        "## Modélisation avec Apache Spark\n",
        "\n",
        "On essaie de faire un modèle basique de prévision du trafic dans les 7 prochains jours, pour une station.\n",
        "\n",
        "Apache Spark MLlib n'intègre pas de modèle pour les séries chronologiques.\n",
        "\n",
        "L'approche classique est alors d'utiliser une technique de régression classique (régression linéaire bien sûr, mais aussi RandomForestRegressor par exemple).\n",
        "\n",
        "Pour une première version simple, utiliser un vecteur constituer des validations sur les 14 jours précédents (X) pour prédire les validations du jour (y). Dans cette version, on utilisera une `LinearRegression` ou un `RandomForestRegressor`, au choix.\n",
        "\n",
        "Le code doit comporter :\n",
        "- la préparation des _features_ (X)\n",
        "- la constitution d'un ensemble d'apprentissage et de test\n",
        "- l'entrainement d'un modèle\n",
        "- le mesure de la performance du modèle : RMSE\n",
        "\n",
        "Rappel : ne travailler que sur les deux catégories de titre principales.\n"
      ]
    },
    {
      "cell_type": "markdown",
      "metadata": {
        "id": "iCIUqeL7nvgp"
      },
      "source": [
        "<font color='red'>***Avant tout, vous pouvez voir sur le tableau suivant qu'il semble y avoir des valeurs manquantes pour la journée du 31 mai 2021 car la ligne 306 (code_stif_arret) n'est pas référencée. Cette erreur de mesure peut impacter notre modèle, je décide donc de supprimer la journée du 31 mai 2021. (Aucun autre problème de ce type n'est à constater).***"
      ]
    },
    {
      "cell_type": "code",
      "metadata": {
        "colab": {
          "base_uri": "https://localhost:8080/"
        },
        "id": "TuzG46S1nmBu",
        "outputId": "1c75b569-39c4-40b8-cd5a-e2f54259621e"
      },
      "source": [
        "(validations_ddf\n",
        " .filter((F.col('libelle_arret') == \"GARE DE LYON\") & (F.col('jour') > '2021-05-27'))).show(20)"
      ],
      "execution_count": null,
      "outputs": [
        {
          "output_type": "stream",
          "name": "stdout",
          "text": [
            "+----------+--------------+-------------+---------------+-------------+-----------+---------------+-------+-----------+\n",
            "|      jour|code_stif_trns|code_stif_res|code_stif_arret|libelle_arret|id_refa_lda|categorie_titre|nb_vald|confinement|\n",
            "+----------+--------------+-------------+---------------+-------------+-----------+---------------+-------+-----------+\n",
            "|2021-05-28|           100|          110|            317| GARE DE LYON|      73626|         NAVIGO|   8385|          0|\n",
            "|2021-05-28|           100|          110|            317| GARE DE LYON|      73626|      IMAGINE R|   2675|          0|\n",
            "|2021-05-28|           810|          801|            306| GARE DE LYON|      73626|      IMAGINE R|   2827|          0|\n",
            "|2021-05-28|           810|          801|            306| GARE DE LYON|      73626|         NAVIGO|   7454|          0|\n",
            "|2021-05-29|           810|          801|            306| GARE DE LYON|      73626|      IMAGINE R|   2880|          0|\n",
            "|2021-05-29|           810|          801|            306| GARE DE LYON|      73626|         NAVIGO|   5838|          0|\n",
            "|2021-05-29|           100|          110|            317| GARE DE LYON|      73626|         NAVIGO|   5387|          0|\n",
            "|2021-05-29|           100|          110|            317| GARE DE LYON|      73626|      IMAGINE R|   2515|          0|\n",
            "|2021-05-30|           810|          801|            306| GARE DE LYON|      73626|      IMAGINE R|   3070|          0|\n",
            "|2021-05-30|           810|          801|            306| GARE DE LYON|      73626|         NAVIGO|   7370|          0|\n",
            "|2021-05-30|           100|          110|            317| GARE DE LYON|      73626|      IMAGINE R|   2356|          0|\n",
            "|2021-05-30|           100|          110|            317| GARE DE LYON|      73626|         NAVIGO|   6158|          0|\n",
            "|2021-05-31|           100|          110|            317| GARE DE LYON|      73626|         NAVIGO|   9084|          0|\n",
            "|2021-05-31|           100|          110|            317| GARE DE LYON|      73626|      IMAGINE R|   2616|          0|\n",
            "+----------+--------------+-------------+---------------+-------------+-----------+---------------+-------+-----------+\n",
            "\n"
          ]
        }
      ]
    },
    {
      "cell_type": "code",
      "metadata": {
        "id": "WNUvN7V7oRmn"
      },
      "source": [
        "validations_ddf = validations_ddf.filter(F.col('jour') != '2021-05-31')"
      ],
      "execution_count": null,
      "outputs": []
    },
    {
      "cell_type": "markdown",
      "metadata": {
        "id": "w0eX4kkkze9F"
      },
      "source": [
        "<font color='red'>***Comme les prédictions doivent se faire sur une seule station, je choisis d'étudier la Gare de Lyon. Le code suivant permet de créer les variables lag pour les 14 derniers jours.***"
      ]
    },
    {
      "cell_type": "code",
      "metadata": {
        "colab": {
          "base_uri": "https://localhost:8080/"
        },
        "id": "COOH5rTZZwv1",
        "outputId": "8c19a43a-5f28-4270-a037-1b5561b7974c"
      },
      "source": [
        "from pyspark.sql.functions import monotonically_increasing_id \n",
        "\n",
        "agg_window = Window.orderBy('jour').rowsBetween(-15,-1)\n",
        "\n",
        "df1 = (validations_ddf\n",
        "        .filter(F.col('libelle_arret') == \"GARE DE LYON\")\n",
        "        .groupby('jour')\n",
        "        .agg(F.sum('nb_vald').alias('nb_vald'))\n",
        "        .orderBy('jour')\n",
        "        .withColumn('rolling14', F.mean('nb_vald').over(agg_window)))\n",
        "\n",
        "df1 = df1.filter(monotonically_increasing_id() >= 14) # Suppression des 14 premiers jours de la base de données\n",
        "\n",
        "df1.show(5)"
      ],
      "execution_count": null,
      "outputs": [
        {
          "output_type": "stream",
          "name": "stdout",
          "text": [
            "+----------+-------+------------------+\n",
            "|      jour|nb_vald|         rolling14|\n",
            "+----------+-------+------------------+\n",
            "|2020-07-15|  28446|           23005.5|\n",
            "|2020-07-16|  23861|           23368.2|\n",
            "|2020-07-17|  26863|           23279.6|\n",
            "|2020-07-18|  24656|           23370.0|\n",
            "|2020-07-19|  24930|23356.866666666665|\n",
            "+----------+-------+------------------+\n",
            "only showing top 5 rows\n",
            "\n"
          ]
        }
      ]
    },
    {
      "cell_type": "markdown",
      "metadata": {
        "id": "5bR-crOb62a6"
      },
      "source": [
        "<font color='red'>***Préparation des features et constitution des échantillons d'apprentissage / de test.***"
      ]
    },
    {
      "cell_type": "code",
      "metadata": {
        "colab": {
          "base_uri": "https://localhost:8080/"
        },
        "id": "TD9FBq-o4GC_",
        "outputId": "285a4872-c1f6-4d5a-bca4-e27f76f536bd"
      },
      "source": [
        "from pyspark.ml.feature import VectorAssembler\n",
        "from pyspark.ml.regression import LinearRegression\n",
        "\n",
        "vector = VectorAssembler(inputCols = ['rolling14'], outputCol = 'features')\n",
        "\n",
        "df2 = vector.transform(df1).select(['features', 'nb_vald'])\n",
        "df2.show(5)"
      ],
      "execution_count": null,
      "outputs": [
        {
          "output_type": "stream",
          "name": "stdout",
          "text": [
            "+--------------------+-------+\n",
            "|            features|nb_vald|\n",
            "+--------------------+-------+\n",
            "|           [23005.5]|  28446|\n",
            "|           [23368.2]|  23861|\n",
            "|           [23279.6]|  26863|\n",
            "|           [23370.0]|  24656|\n",
            "|[23356.866666666665]|  24930|\n",
            "+--------------------+-------+\n",
            "only showing top 5 rows\n",
            "\n"
          ]
        }
      ]
    },
    {
      "cell_type": "code",
      "metadata": {
        "id": "-A97ioJT4qgL"
      },
      "source": [
        "splits = df2.randomSplit([0.7, 0.3], seed = 123)\n",
        "train_df = splits[0]\n",
        "test_df = splits[1]"
      ],
      "execution_count": null,
      "outputs": []
    },
    {
      "cell_type": "markdown",
      "metadata": {
        "id": "xQa7Dbsr7DyM"
      },
      "source": [
        "<font color='red'>***Entraînement du modèle :***"
      ]
    },
    {
      "cell_type": "code",
      "metadata": {
        "id": "T4isPPb85AIj"
      },
      "source": [
        "from pyspark.ml.regression import LinearRegression\n",
        "\n",
        "lr = LinearRegression(featuresCol = 'features', labelCol='nb_vald', maxIter=10, regParam=0.3, elasticNetParam=0.8)\n",
        "lr_model = lr.fit(train_df)"
      ],
      "execution_count": null,
      "outputs": []
    },
    {
      "cell_type": "markdown",
      "metadata": {
        "id": "p27PsYib7VMU"
      },
      "source": [
        "<font color='red'>***Évaluation du modèle : On obtient un RMSE de 4177***"
      ]
    },
    {
      "cell_type": "code",
      "metadata": {
        "colab": {
          "base_uri": "https://localhost:8080/"
        },
        "id": "yU6ZKoc45oRx",
        "outputId": "726be8f1-d85a-425f-d5c8-8081157e0130"
      },
      "source": [
        "from pyspark.ml.evaluation import RegressionEvaluator\n",
        "\n",
        "lr_predictions = lr_model.transform(test_df)\n",
        "lr_evaluator = RegressionEvaluator(labelCol=\"nb_vald\", predictionCol=\"prediction\", metricName=\"rmse\")\n",
        "rmse = lr_evaluator.evaluate(lr_predictions)\n",
        "print(\"Root Mean Squared Error (RMSE) sur l'échantillon test = %g\" % rmse)"
      ],
      "execution_count": null,
      "outputs": [
        {
          "output_type": "stream",
          "name": "stdout",
          "text": [
            "Root Mean Squared Error (RMSE) sur l'échantillon test = 4177.15\n"
          ]
        }
      ]
    },
    {
      "cell_type": "markdown",
      "metadata": {
        "id": "qBMKn6rmDREr"
      },
      "source": [
        "## Amélioration du modèle\n",
        "\n",
        "Discuter des façons d'améliorer cette première version du modèle."
      ]
    },
    {
      "cell_type": "markdown",
      "metadata": {
        "id": "mdse1jBVDcR-"
      },
      "source": [
        "---\n",
        "🔽 <font color='red'>***Mes suggestions d'amélioration du modèle sont les suivantes :***\n",
        "<font color='red'>\n",
        "*   ***Ajouter la variable \"confinement\"***\n",
        "*   ***Ajouter une variable indiquant si l'observation est en période de vacances***\n",
        "*   ***Ajouter une variable indiquant si l'observation a lieu un jour férié***\n",
        "*   ***Ajouter la variable représentant le jour de la semaine (car nous avons vu des différences le week-end).***\n",
        "*   ***Ajouter une variable temporelle représentant le nombre de jours entre celui de l'observation et le premier jour de la base de données. Cela permettra de prendre en compte la tendance.***\n",
        "</font>\n",
        "\n",
        "<font color='red'>***Ensuite, une façon d'améliorer le modèle est également d'analyser les résidus. C'est-à-dire d'observer dans quels cas notre modèle se trompe \"beaucoup\" et chercher les variables ommises.***\n",
        "\n",
        "<font color='red'>***Enfin, les paramètres du modèle peuvent être améliorés par validation croisée.***\n",
        "\n",
        "---\n",
        "\n",
        "\n",
        "\n",
        "\n",
        "\n",
        "\n",
        "\n",
        "\n"
      ]
    },
    {
      "cell_type": "markdown",
      "metadata": {
        "id": "dqLJ6mndDkEk"
      },
      "source": [
        "## OPTION : implémentation des améliorations\n",
        "\n",
        "Implémenter tout ou partir des suggestions d'amélioration.\n",
        "\n",
        "Cette partie est facultative et sera bonifiante si les éléments contribués sont probants."
      ]
    },
    {
      "cell_type": "code",
      "metadata": {
        "id": "YlhwO0DEDM37"
      },
      "source": [
        "from pyspark.ml.feature import OneHotEncoder, VectorAssembler\n",
        "from pyspark.ml.regression import LinearRegression\n",
        "import pandas as pd"
      ],
      "execution_count": null,
      "outputs": []
    },
    {
      "cell_type": "markdown",
      "metadata": {
        "id": "afdy8uLCeDn6"
      },
      "source": [
        "<font color='red'>***Le code suivant permet de créer deux objets, `feries` et `holidays`, contenant respectivement les jours fériés et les vacances sur la période concernée.***\n",
        "\n"
      ]
    },
    {
      "cell_type": "code",
      "metadata": {
        "id": "IdSvDwiQinZ6"
      },
      "source": [
        "def flatten(t):\n",
        "    return [item for sublist in t for item in sublist]"
      ],
      "execution_count": null,
      "outputs": []
    },
    {
      "cell_type": "code",
      "metadata": {
        "id": "fIFUgNG4b8qR"
      },
      "source": [
        "feries = ['2020-07-14', '2020-08-15', '2020-11-01', '2020-11-11', '2020-12-25', '2021-01-01', '2021-04-05', '2021-05-01', '2021-05-08', '2021-05-13', '2021-05-24']\n",
        "\n",
        "holidays = [pd.date_range('2020-07-04', '2020-08-31').format(),\n",
        " pd.date_range('2020-10-17', '2020-11-01').format(),\n",
        " pd.date_range('2020-12-19', '2021-01-03').format(),\n",
        " pd.date_range('2021-02-13', '2021-02-28').format(),\n",
        " pd.date_range('2021-04-10', '2021-04-25').format()]\n",
        "\n",
        "holidays = flatten(holidays)\n"
      ],
      "execution_count": null,
      "outputs": []
    },
    {
      "cell_type": "markdown",
      "metadata": {
        "id": "876IucZSfGgd"
      },
      "source": [
        "<font color='red'>***Comme évoqué précédemment, j'ajoute les variables représentant le confinement, jour de la semaine, le temps, les jours fériés et les vacances.***"
      ]
    },
    {
      "cell_type": "code",
      "metadata": {
        "colab": {
          "base_uri": "https://localhost:8080/"
        },
        "id": "oDnXjW9pefSv",
        "outputId": "cd5b95e9-ab7f-4414-fb41-8e9dc918fc8c"
      },
      "source": [
        "from pyspark.sql.functions import datediff, to_date\n",
        "\n",
        "df1 = (validations_ddf\n",
        "        .filter(F.col('libelle_arret') == \"GARE DE LYON\")\n",
        "        .groupby('jour', 'confinement')\n",
        "        .agg(F.sum('nb_vald').alias('nb_vald'))\n",
        "        .orderBy('jour')\n",
        "        .withColumn('rolling14', F.mean('nb_vald').over(agg_window)))\n",
        "\n",
        "df1 = (df1\n",
        " .withColumn('weekday', F.dayofweek('jour'))\n",
        " .withColumn('day', datediff(col(\"jour\"), to_date(lit(\"2020-07-01\"))))\n",
        " .withColumn('feries', F.when(F.col('jour').isin(feries), 1).otherwise(0))\n",
        " .withColumn('holidays', F.when(F.col('jour').isin(holidays), 1).otherwise(0)))\n",
        "\n",
        "ohe_weekday = OneHotEncoder(inputCol=\"weekday\", outputCol=\"ohe_weekday\")\n",
        "df1 = ohe_weekday.fit(df1).transform(df1)\n",
        "\n",
        "df1 = df1.filter(monotonically_increasing_id() >= 14)\n",
        "\n",
        "df1.show(10)"
      ],
      "execution_count": null,
      "outputs": [
        {
          "output_type": "stream",
          "name": "stdout",
          "text": [
            "+----------+-----------+-------+------------------+-------+---+------+--------+-------------+\n",
            "|      jour|confinement|nb_vald|         rolling14|weekday|day|feries|holidays|  ohe_weekday|\n",
            "+----------+-----------+-------+------------------+-------+---+------+--------+-------------+\n",
            "|2020-07-15|          0|  28446|           23005.5|      4| 14|     0|       1|(7,[4],[1.0])|\n",
            "|2020-07-16|          0|  23861|           23368.2|      5| 15|     0|       1|(7,[5],[1.0])|\n",
            "|2020-07-17|          0|  26863|           23279.6|      6| 16|     0|       1|(7,[6],[1.0])|\n",
            "|2020-07-18|          0|  24656|           23370.0|      7| 17|     0|       1|    (7,[],[])|\n",
            "|2020-07-19|          0|  24930|23356.866666666665|      1| 18|     0|       1|(7,[1],[1.0])|\n",
            "|2020-07-20|          0|  27209|           24010.8|      2| 19|     0|       1|(7,[2],[1.0])|\n",
            "|2020-07-21|          0|  27166|           24835.0|      3| 20|     0|       1|(7,[3],[1.0])|\n",
            "|2020-07-22|          0|  26453|24869.333333333332|      4| 21|     0|       1|(7,[4],[1.0])|\n",
            "|2020-07-23|          0|  26826|24827.866666666665|      5| 22|     0|       1|(7,[5],[1.0])|\n",
            "|2020-07-24|          0|  25282|24909.266666666666|      6| 23|     0|       1|(7,[6],[1.0])|\n",
            "+----------+-----------+-------+------------------+-------+---+------+--------+-------------+\n",
            "only showing top 10 rows\n",
            "\n"
          ]
        }
      ]
    },
    {
      "cell_type": "code",
      "metadata": {
        "id": "HTEcew5xQ-Cd"
      },
      "source": [
        "splits = df1.randomSplit([0.7, 0.3], seed = 123)\n",
        "train_df = splits[0]\n",
        "test_df = splits[1]"
      ],
      "execution_count": null,
      "outputs": []
    },
    {
      "cell_type": "code",
      "metadata": {
        "id": "dDeH6KttJuTd"
      },
      "source": [
        "vector = VectorAssembler(inputCols = ['confinement', 'rolling14', 'day', 'feries', 'holidays', 'ohe_weekday'], outputCol = 'features')\n",
        "\n",
        "train_df2 = vector.transform(train_df).select(['features', 'nb_vald'])\n",
        "test_df2 = vector.transform(test_df).select(['features', 'nb_vald'])"
      ],
      "execution_count": null,
      "outputs": []
    },
    {
      "cell_type": "markdown",
      "metadata": {
        "id": "L_23ZipEh4r8"
      },
      "source": [
        "<font color='red'>***L'ajout de ces différentes variables nous permet de faire passer le RMSE de 4177 à 2512 sur l'échantillon test.***"
      ]
    },
    {
      "cell_type": "code",
      "metadata": {
        "colab": {
          "base_uri": "https://localhost:8080/"
        },
        "id": "tBkN76ZJJ6-_",
        "outputId": "cfff302f-ab38-4f4b-a691-254c10b30535"
      },
      "source": [
        "lr = LinearRegression(featuresCol = 'features', labelCol='nb_vald', maxIter=10, regParam=0.3, elasticNetParam=0.8)\n",
        "lr_model = lr.fit(train_df2)\n",
        "lr_predictions = lr_model.transform(test_df2)\n",
        "lr_evaluator = RegressionEvaluator(labelCol=\"nb_vald\", predictionCol=\"prediction\", metricName=\"rmse\")\n",
        "rmse = lr_evaluator.evaluate(lr_predictions)\n",
        "print(\"Root Mean Squared Error (RMSE) on test data = %g\" % rmse)"
      ],
      "execution_count": null,
      "outputs": [
        {
          "output_type": "stream",
          "name": "stdout",
          "text": [
            "Root Mean Squared Error (RMSE) on test data = 2512.11\n"
          ]
        }
      ]
    },
    {
      "cell_type": "markdown",
      "metadata": {
        "id": "jAwh8hX8iPoX"
      },
      "source": [
        "<font color='red'>***Je vais désormais procéder à l'analyse des résidus. Pour cela, j'affiche les observations pour lesquelles le résidus sont les plus élevés afin de comprendre pourquoi le modèle se trompe.***"
      ]
    },
    {
      "cell_type": "code",
      "metadata": {
        "id": "I3BtqJ9jTkKa"
      },
      "source": [
        "df_res = (test_df\n",
        " .withColumn(\"id\",monotonically_increasing_id())\n",
        " .drop('nb_vald')\n",
        " .join(lr_predictions.withColumn(\"id\",monotonically_increasing_id()), on=[\"id\"])\n",
        " .drop('features', 'id')\n",
        " .withColumn('res', F.abs(F.col('nb_vald') - F.col('prediction'))))"
      ],
      "execution_count": null,
      "outputs": []
    },
    {
      "cell_type": "markdown",
      "metadata": {
        "id": "1NDZKFOviyar"
      },
      "source": [
        "<font color='red'>***Sur le tableau suivant, on observe que 2 des observations pour lesquelles le modèle se trompe le plus sont des observations qui ont eu lieu au tout début du confinement : le modèle sur-estime le trafic. Cela est probablement dû au fait que la variable rolling14 est élevée pour ces observations puisqu'elle prend en compte les valeurs de nb_vald juste avant la fin du confinement. Pour remédier à ce problème, je vais créer une nouvelle variable représentant le nombre de jours passés depuis le début du confinement d'octobre. En plus de régler le problème évoqué précédemment, cette variable permettra également au modèle de prendre en compte la nouvelle tendance du trafic qui est née à partir du confinement d'octobre. En effet, comme nous le savons, la gouvernement n'a pas rendu la liberté à la population d'un seul coup, mais par étape avec le couvre-feu, l'ouverture des terasses, puis des restaurants, puis des boîtes de nuit. Ainsi, on peut penser que le trafic retrouvera son niveau d'avant la crise petit à petit (à travers une nouvelle tendance) et pas brusquement.***\n",
        "\n",
        "<font color='red'>***On remarque également que plusieurs observations ayant un fort résidus se situent à la fin du mois de mai. Cette fois-ci, le modèle sous-évalue le trafic. Cela provient probablement de la décision prise le 19 mai 2021 de décaler le couvre-feu à 21h00, de réouvrir les terasses, les commerces, les musées ou encore les cinémas. Ainsi, je vais prendre en compte ce phénomène en créant une variable indicatrice de cette période.***"
      ]
    },
    {
      "cell_type": "code",
      "metadata": {
        "colab": {
          "base_uri": "https://localhost:8080/"
        },
        "id": "RKCw-RyIY8KZ",
        "outputId": "04ff15f3-7038-4788-a68c-5015f5e8d05a"
      },
      "source": [
        "(df_res.\n",
        " withColumn('day_week', F.dayofweek('jour'))\n",
        " .orderBy(col('res').desc())).show(20)"
      ],
      "execution_count": null,
      "outputs": [
        {
          "output_type": "stream",
          "name": "stdout",
          "text": [
            "+----------+-----------+------------------+-------+---+------+--------+-------------+-------+------------------+------------------+--------+\n",
            "|      jour|confinement|         rolling14|weekday|day|feries|holidays|  ohe_weekday|nb_vald|        prediction|               res|day_week|\n",
            "+----------+-----------+------------------+-------+---+------+--------+-------------+-------+------------------+------------------+--------+\n",
            "|2020-11-05|          1|           20075.8|      5|127|     0|       0|(7,[5],[1.0])|  11181|18100.429492950167| 6919.429492950167|       5|\n",
            "|2021-05-25|          0|16979.533333333333|      3|328|     0|       0|(7,[3],[1.0])|  23991|17982.023662751653| 6008.976337248347|       3|\n",
            "|2020-10-03|          0|28629.133333333335|      7| 94|     0|       0|    (7,[],[])|  17813| 23351.88285294855| 5538.882852948551|       7|\n",
            "|2021-05-08|          0|13965.266666666666|      7|311|     1|       0|    (7,[],[])|   9568|4032.4652903679716| 5535.534709632028|       7|\n",
            "|2020-10-31|          1|25221.666666666668|      7|122|     0|       1|    (7,[],[])|   7730| 13258.63394486166|  5528.63394486166|       7|\n",
            "|2020-12-01|          1|10507.466666666667|      3|153|     0|       0|(7,[3],[1.0])|  16315|11380.088230616155| 4934.911769383845|       3|\n",
            "|2020-09-26|          0|28953.133333333335|      7| 87|     0|       0|    (7,[],[])|  19036|23691.147643150354| 4655.147643150354|       7|\n",
            "|2020-12-03|          1|11051.466666666667|      5|155|     0|       0|(7,[5],[1.0])|  16192|11634.420168177749| 4557.579831822251|       5|\n",
            "|2020-12-10|          1|           13121.6|      5|162|     0|       0|(7,[5],[1.0])|  17133| 12877.83916739426| 4255.160832605739|       5|\n",
            "|2021-05-29|          0|           18704.8|      7|332|     0|       0|    (7,[],[])|  16620|12538.545364003374| 4081.454635996626|       7|\n",
            "|2020-08-07|          0|           23360.6|      6| 37|     0|       1|(7,[6],[1.0])|  20879|24729.587580766784|3850.5875807667835|       6|\n",
            "|2021-05-18|          0|           15691.0|      3|321|     0|       0|(7,[3],[1.0])|  21025| 17255.29503853905|3769.7049614609496|       3|\n",
            "|2020-09-11|          0|25980.866666666665|      6| 72|     0|       0|(7,[6],[1.0])|  31444| 27726.29872835514| 3717.701271644859|       6|\n",
            "|2020-08-17|          0|22518.866666666665|      2| 47|     0|       1|(7,[2],[1.0])|  22361| 26046.35792652145|3685.3579265214503|       2|\n",
            "|2021-05-28|          0|           17847.4|      6|331|     0|       0|(7,[6],[1.0])|  21341|17721.608289078093|3619.3917109219074|       6|\n",
            "|2021-02-28|          0|16348.533333333333|      1|242|     0|       1|(7,[1],[1.0])|  14673|11056.559984915684|3616.4400150843157|       1|\n",
            "|2021-03-23|          0|16469.533333333333|      3|265|     0|       0|(7,[3],[1.0])|  15209| 18770.58944503438|3561.5894450343803|       3|\n",
            "|2021-05-27|          0|           17572.4|      5|330|     0|       0|(7,[5],[1.0])|  21741| 18268.65976654302|  3472.34023345698|       5|\n",
            "|2021-05-09|          0|13688.133333333333|      1|312|     0|       0|(7,[1],[1.0])|  13323| 9936.999340189615|3386.0006598103846|       1|\n",
            "|2020-12-31|          0|           12168.0|      5|183|     0|       1|(7,[5],[1.0])|  12052| 15432.71110650141|3380.7111065014105|       5|\n",
            "+----------+-----------+------------------+-------+---+------+--------+-------------+-------+------------------+------------------+--------+\n",
            "only showing top 20 rows\n",
            "\n"
          ]
        }
      ]
    },
    {
      "cell_type": "markdown",
      "metadata": {
        "id": "y28mpyLLo8mA"
      },
      "source": [
        "<font color='red'>***Le code suivant applique les modifications citées précédemment.***"
      ]
    },
    {
      "cell_type": "code",
      "metadata": {
        "colab": {
          "base_uri": "https://localhost:8080/"
        },
        "id": "jCL0fwi5o7jN",
        "outputId": "bc8b3666-8376-4ce2-e0e5-9044a2da922f"
      },
      "source": [
        "df1 = (validations_ddf\n",
        "        .filter(F.col('libelle_arret') == \"GARE DE LYON\")\n",
        "        .groupby('jour', 'confinement')\n",
        "        .agg(F.sum('nb_vald').alias('nb_vald'))\n",
        "        .orderBy('jour')\n",
        "        .withColumn('rolling14', F.mean('nb_vald').over(agg_window)))\n",
        "\n",
        "df1 = (df1\n",
        " .withColumn('weekday', F.dayofweek('jour'))\n",
        " .withColumn('day', datediff(col(\"jour\"), to_date(lit(\"2020-07-01\"))))\n",
        " .withColumn('feries', F.when(F.col('jour').isin(feries), 1).otherwise(0))\n",
        " .withColumn('holidays', F.when(F.col('jour').isin(holidays), 1).otherwise(0))\n",
        " .withColumn('day_af_conf', F.when(F.col('jour') >= '2020-10-30', datediff(col(\"jour\"), to_date(lit(\"2020-10-30\")))).otherwise(0))\n",
        " .withColumn('deconf3', F.when(F.col('jour') >= '2021-05-19', 1).otherwise(0)))\n",
        "\n",
        "ohe_weekday = OneHotEncoder(inputCol=\"weekday\", outputCol=\"ohe_weekday\")\n",
        "df1 = ohe_weekday.fit(df1).transform(df1)\n",
        "\n",
        "df1 = df1.filter(monotonically_increasing_id() >= 14)\n",
        "\n",
        "df1.show(10)"
      ],
      "execution_count": null,
      "outputs": [
        {
          "output_type": "stream",
          "name": "stdout",
          "text": [
            "+----------+-----------+-------+------------------+-------+---+------+--------+-----------+-------+-------------+\n",
            "|      jour|confinement|nb_vald|         rolling14|weekday|day|feries|holidays|day_af_conf|deconf3|  ohe_weekday|\n",
            "+----------+-----------+-------+------------------+-------+---+------+--------+-----------+-------+-------------+\n",
            "|2020-07-15|          0|  28446|           23005.5|      4| 14|     0|       1|          0|      0|(7,[4],[1.0])|\n",
            "|2020-07-16|          0|  23861|           23368.2|      5| 15|     0|       1|          0|      0|(7,[5],[1.0])|\n",
            "|2020-07-17|          0|  26863|           23279.6|      6| 16|     0|       1|          0|      0|(7,[6],[1.0])|\n",
            "|2020-07-18|          0|  24656|           23370.0|      7| 17|     0|       1|          0|      0|    (7,[],[])|\n",
            "|2020-07-19|          0|  24930|23356.866666666665|      1| 18|     0|       1|          0|      0|(7,[1],[1.0])|\n",
            "|2020-07-20|          0|  27209|           24010.8|      2| 19|     0|       1|          0|      0|(7,[2],[1.0])|\n",
            "|2020-07-21|          0|  27166|           24835.0|      3| 20|     0|       1|          0|      0|(7,[3],[1.0])|\n",
            "|2020-07-22|          0|  26453|24869.333333333332|      4| 21|     0|       1|          0|      0|(7,[4],[1.0])|\n",
            "|2020-07-23|          0|  26826|24827.866666666665|      5| 22|     0|       1|          0|      0|(7,[5],[1.0])|\n",
            "|2020-07-24|          0|  25282|24909.266666666666|      6| 23|     0|       1|          0|      0|(7,[6],[1.0])|\n",
            "+----------+-----------+-------+------------------+-------+---+------+--------+-----------+-------+-------------+\n",
            "only showing top 10 rows\n",
            "\n"
          ]
        }
      ]
    },
    {
      "cell_type": "code",
      "metadata": {
        "id": "xPjG2B5PpRS4"
      },
      "source": [
        "splits = df1.randomSplit([0.7, 0.3], seed = 123)\n",
        "train_df = splits[0]\n",
        "test_df = splits[1]"
      ],
      "execution_count": null,
      "outputs": []
    },
    {
      "cell_type": "code",
      "metadata": {
        "id": "feDcyR0ZpTyi"
      },
      "source": [
        "vector = VectorAssembler(inputCols = ['confinement', 'rolling14', 'day', 'feries', 'holidays', 'ohe_weekday', 'day_af_conf', 'ohe_weekday', 'deconf3'], outputCol = 'features')\n",
        "\n",
        "train_df2 = vector.transform(train_df).select(['features', 'nb_vald'])\n",
        "test_df2 = vector.transform(test_df).select(['features', 'nb_vald'])"
      ],
      "execution_count": null,
      "outputs": []
    },
    {
      "cell_type": "markdown",
      "metadata": {
        "id": "EuiJgKe1gl3R"
      },
      "source": [
        "<font color='red'>***Ces améliorations nous permettent de faire passer le RMSE à 2405 sur l'échantillon test***"
      ]
    },
    {
      "cell_type": "code",
      "metadata": {
        "colab": {
          "base_uri": "https://localhost:8080/"
        },
        "id": "UPwMsjIOpWLW",
        "outputId": "96add8c5-51f7-46b9-c7b3-3cf3ae6fd2da"
      },
      "source": [
        "lr = LinearRegression(featuresCol = 'features', labelCol='nb_vald', maxIter=10, regParam=0.3, elasticNetParam=0.8)\n",
        "lr_model = lr.fit(train_df2)\n",
        "lr_predictions = lr_model.transform(test_df2)\n",
        "lr_evaluator = RegressionEvaluator(labelCol=\"nb_vald\", predictionCol=\"prediction\", metricName=\"rmse\")\n",
        "rmse = lr_evaluator.evaluate(lr_predictions)\n",
        "print(\"Root Mean Squared Error (RMSE) on test data = %g\" % rmse)"
      ],
      "execution_count": null,
      "outputs": [
        {
          "output_type": "stream",
          "name": "stdout",
          "text": [
            "Root Mean Squared Error (RMSE) on test data = 2405.37\n"
          ]
        }
      ]
    }
  ]
}